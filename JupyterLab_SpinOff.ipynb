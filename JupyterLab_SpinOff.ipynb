{
  "nbformat": 4,
  "nbformat_minor": 0,
  "metadata": {
    "colab": {
      "name": "JupyterLab_SpinOff.ipynb",
      "provenance": [],
      "authorship_tag": "ABX9TyNsAmHxRqkXCcHXFiJ9UXvz",
      "include_colab_link": true
    },
    "kernelspec": {
      "name": "python3",
      "display_name": "Python 3"
    },
    "language_info": {
      "name": "python"
    }
  },
  "cells": [
    {
      "cell_type": "markdown",
      "metadata": {
        "id": "view-in-github",
        "colab_type": "text"
      },
      "source": [
        "<a href=\"https://colab.research.google.com/github/donalglavin/donalglavin/blob/master/JupyterLab_SpinOff.ipynb\" target=\"_parent\"><img src=\"https://colab.research.google.com/assets/colab-badge.svg\" alt=\"Open In Colab\"/></a>"
      ]
    },
    {
      "cell_type": "markdown",
      "metadata": {
        "id": "T9wIIXobuUjN"
      },
      "source": [
        "# Jupyter Lab... *spin off*\n",
        "The purpose of this notebook is to spin off a *jupyter lab* instance via a public IP to provide greater control and access to scripting and data."
      ]
    },
    {
      "cell_type": "markdown",
      "metadata": {
        "id": "6cnLU5Xzud0D"
      },
      "source": [
        "## Install Prerequsites.\n",
        "As with most things, batteries are not included and there is some essential set up required to get the system up and running.\n",
        "\n",
        "For this program the following items need to be installed.\n",
        "  1. Installation of Jupyter Lab and Restart of runtime\n",
        "  1. Installation of *pyngrok* to provide a means of tunnelling the local Jupyter Lab through to the public IP.\n"
      ]
    },
    {
      "cell_type": "code",
      "metadata": {
        "id": "185A2wrWuOUw"
      },
      "source": [
        "!pip install pyngrok\n",
        "!pip install jupyterlab\n",
        "!pip install jupyter"
      ],
      "execution_count": null,
      "outputs": []
    },
    {
      "cell_type": "markdown",
      "metadata": {
        "id": "AtOoXEpAz_k9"
      },
      "source": [
        "Import the pyngrok library into the system context."
      ]
    },
    {
      "cell_type": "code",
      "metadata": {
        "id": "fmXIVNI-0FAX"
      },
      "source": [
        "from pyngrok import ngrok"
      ],
      "execution_count": 28,
      "outputs": []
    },
    {
      "cell_type": "markdown",
      "metadata": {
        "id": "wKs0BbuXxrtY"
      },
      "source": [
        "## Security Configuration.\n",
        "With jupyter lab and pyngrok installed it's important to have some basic security settings configured to ensure we are not leaving ourselves exposed. These include:\n",
        "1. The use of the ngrok authorisation token.\n",
        "1. Configuration of a Jupyter Lab username and password.\n",
        "1. The inclusion of a self signed certificate."
      ]
    },
    {
      "cell_type": "markdown",
      "metadata": {
        "id": "Ek61CAhX0WlA"
      },
      "source": [
        "### Generate the self signed certificate.\n",
        "Using openssl we can generate a new RSA certificate for the JupyterLab application.\n",
        "\n",
        "The below code will create:\n",
        "- /content/mycert.pem\n",
        "- /content/mykey.key\n",
        "\n",
        "In the root directory of this virtual machine."
      ]
    },
    {
      "cell_type": "code",
      "metadata": {
        "id": "1gvfK_DC0WD3"
      },
      "source": [
        "!openssl req -x509 -nodes -days 365 -newkey rsa:2048 -keyout mykey.key -out mycert.pem"
      ],
      "execution_count": null,
      "outputs": []
    },
    {
      "cell_type": "markdown",
      "metadata": {
        "id": "EpzCeWbT2H3N"
      },
      "source": [
        "Confirm location of certificates."
      ]
    },
    {
      "cell_type": "code",
      "metadata": {
        "id": "VMSk_wQv2Gdt"
      },
      "source": [
        "!ls -la /content/"
      ],
      "execution_count": null,
      "outputs": []
    },
    {
      "cell_type": "markdown",
      "metadata": {
        "id": "WJhunX5Byt-6"
      },
      "source": [
        "### Define Jupyter Notebook Config.\n",
        "The Jupyter notebook Configuration sets up the required variables for running the jupyter notebook."
      ]
    },
    {
      "cell_type": "markdown",
      "metadata": {
        "id": "fdPSGRCX1auO"
      },
      "source": [
        "Generate and overwrite the existing configuration file."
      ]
    },
    {
      "cell_type": "code",
      "metadata": {
        "id": "80uVbREq1V32"
      },
      "source": [
        "!jupyter notebook --generate-config -y"
      ],
      "execution_count": null,
      "outputs": []
    },
    {
      "cell_type": "markdown",
      "metadata": {
        "id": "CK5Ihaj-2TI5"
      },
      "source": [
        "Confim location of Jupyter Notebook Config."
      ]
    },
    {
      "cell_type": "code",
      "metadata": {
        "id": "WFNj0ptB2Xg2"
      },
      "source": [
        "!ls -la /root/.jupyter/"
      ],
      "execution_count": null,
      "outputs": []
    },
    {
      "cell_type": "markdown",
      "metadata": {
        "id": "TcPsNs4s1lWl"
      },
      "source": [
        "Generating the modified config file.\n"
      ]
    },
    {
      "cell_type": "code",
      "metadata": {
        "id": "XLaz_Tk77bna"
      },
      "source": [
        "# The existing file contents.\n",
        "!cat /root/.jupyter/jupyter_notebook_config.py"
      ],
      "execution_count": null,
      "outputs": []
    },
    {
      "cell_type": "code",
      "metadata": {
        "id": "T98kqSCc8AQq"
      },
      "source": [
        "# Backup the config file.\n",
        "!mv /root/.jupyter/jupyter_notebook_config.py /content/old_jupyter_config.py"
      ],
      "execution_count": 34,
      "outputs": []
    },
    {
      "cell_type": "code",
      "metadata": {
        "id": "fqTOw_Wd3HKj"
      },
      "source": [
        "jupyterConfig = \"\"\n",
        "jupyterConfig = jupyterConfig + \"c.NotebookApp.certfile = '/content/mycert.pem'\" + \"\\n\" # The full path to an SSL/TLS certificate file.\n",
        "jupyterConfig = jupyterConfig + \"c.NotebookApp.keyfile = '/content/mykey.key'\" + \"\\n\" # The full path to a private key file for usage with SSL/TLS.\n",
        "jupyterConfig = jupyterConfig + \"c.NotebookApp.ip = '*'\" + \"\\n\" # The IP address the notebook server will listen on.\n",
        "jupyterConfig = jupyterConfig + \"c.NotebookApp.open_browser = False\" + \"\\n\" # Dont open a browser straight away.\n",
        "jupyterConfig = jupyterConfig + \"c.NotebookApp.port = 80\" + \"\\n\" # The port the server will listen on.\n",
        "jupyterConfig = jupyterConfig + \"c.NotebookApp.allow_root = True\" + \"\\n\" # Allow root access (because VM is root and errors otherwise).\n",
        "jupyterConfig = jupyterConfig + \"c.NotebookApp.allow_remote_access = True\" + \"\\n\" # Allow remote access for login.\n",
        "jupyterConfig = jupyterConfig + \"c.NotebookApp.enable_mathjax = True\" + \"\\n\" # Allow the use of latex markup.\n",
        " #c.NotebookApp.token = ''\n",
        " #c.NotebookApp.password = ''\n",
        "\n",
        "f = open(\"/root/.jupyter/jupyter_notebook_config.py\", \"w\")\n",
        "f.write(jupyterConfig)\n",
        "f.close()\n"
      ],
      "execution_count": 46,
      "outputs": []
    },
    {
      "cell_type": "markdown",
      "metadata": {
        "id": "bGRCOIeU0Ity"
      },
      "source": [
        "### Setup the NGROK authentication token.\n",
        "Set the authorisation code via user input."
      ]
    },
    {
      "cell_type": "code",
      "metadata": {
        "id": "Abm7jlr58TEI"
      },
      "source": [
        "ngrok_auth_token = \"\""
      ],
      "execution_count": 37,
      "outputs": []
    },
    {
      "cell_type": "code",
      "metadata": {
        "id": "wGLBtdYe8jmy"
      },
      "source": [
        "ngrok.set_auth_token(input())"
      ],
      "execution_count": null,
      "outputs": []
    },
    {
      "cell_type": "code",
      "metadata": {
        "colab": {
          "base_uri": "https://localhost:8080/"
        },
        "id": "DeOptis40Nb4",
        "outputId": "bd4a3569-75a1-46fe-d849-8ec0012fba18"
      },
      "source": [
        "ngrok.set_auth_token(ngrok_auth_token)"
      ],
      "execution_count": 38,
      "outputs": [
        {
          "output_type": "stream",
          "text": [
            ""
          ],
          "name": "stdout"
        }
      ]
    },
    {
      "cell_type": "markdown",
      "metadata": {
        "id": "Hc07oValurBs"
      },
      "source": [
        "## Connect to Google Drive.\n",
        "In order for this to really have any benefit the files I'll be working on will need to persist from edit to edit.\n",
        "\n",
        "Hence why connecting to google drive is important."
      ]
    },
    {
      "cell_type": "code",
      "metadata": {
        "id": "wrJVsIoouNCL"
      },
      "source": [
        "from google.colab import drive\n",
        "drive.mount('/content/gdrive')"
      ],
      "execution_count": null,
      "outputs": []
    },
    {
      "cell_type": "code",
      "metadata": {
        "id": "7G3WmQLyuym9"
      },
      "source": [
        "!ls -la '/content/gdrive/MyDrive/Colab Notebooks/'"
      ],
      "execution_count": null,
      "outputs": []
    },
    {
      "cell_type": "markdown",
      "metadata": {
        "id": "GSXv6IzsvaIc"
      },
      "source": [
        "## Run Jupyter Lab & Ngrok"
      ]
    },
    {
      "cell_type": "markdown",
      "metadata": {
        "id": "xDKox5eU9FoH"
      },
      "source": [
        "Firstly, set up and obtain the running ngrok public IP. This need to be executed before the jupyter lab application is started as it will block all other execution of code."
      ]
    },
    {
      "cell_type": "markdown",
      "metadata": {
        "id": "mim8kmkE_ukl"
      },
      "source": [
        "Present internal proxy port."
      ]
    },
    {
      "cell_type": "code",
      "metadata": {
        "colab": {
          "base_uri": "https://localhost:8080/",
          "height": 34
        },
        "id": "ml1He8o7_teP",
        "outputId": "a6dbe58a-d7a7-49a3-db6d-7c20a33e5bc8"
      },
      "source": [
        "from google.colab.output import eval_js\n",
        "print(eval_js(\"google.colab.kernel.proxyPort(8000)\"))"
      ],
      "execution_count": 53,
      "outputs": [
        {
          "output_type": "stream",
          "text": [
            "https://kojkl9ufuw9-496ff2e9c6d22116-8000-colab.googleusercontent.com/\n"
          ],
          "name": "stdout"
        }
      ]
    },
    {
      "cell_type": "markdown",
      "metadata": {
        "id": "OEXfJO3t_zmV"
      },
      "source": [
        "Run ngrok."
      ]
    },
    {
      "cell_type": "code",
      "metadata": {
        "colab": {
          "base_uri": "https://localhost:8080/"
        },
        "id": "Hpi-5jhkzud_",
        "outputId": "a08c1ff9-32b4-49fa-e65f-72a95a9fdadc"
      },
      "source": [
        "# Open a HTTP tunnel on the default port 80. \n",
        "http_tunnel = ngrok.connect(port=80)\n",
        "# Present a link to the tunnel. the tunnel.\n",
        "http_tunnel"
      ],
      "execution_count": 51,
      "outputs": [
        {
          "output_type": "execute_result",
          "data": {
            "text/plain": [
              "<NgrokTunnel: \"http://3e50ee374a07.ngrok.io\" -> \"http://localhost:80\">"
            ]
          },
          "metadata": {
            "tags": []
          },
          "execution_count": 51
        }
      ]
    },
    {
      "cell_type": "markdown",
      "metadata": {
        "id": "xoaxJZig9X1m"
      },
      "source": [
        "Execute the Jupyter Lab application in the location of interest (colab notebook directory)."
      ]
    },
    {
      "cell_type": "code",
      "metadata": {
        "colab": {
          "base_uri": "https://localhost:8080/"
        },
        "id": "v_xDr4igvk6S",
        "outputId": "1f140e1c-e0a5-4fe5-cd71-a99f9ea6d175"
      },
      "source": [
        "!jupyter lab '/content/gdrive/MyDrive/Colab Notebooks/' --port=8000 --allow-root --no-browser"
      ],
      "execution_count": 56,
      "outputs": [
        {
          "output_type": "stream",
          "text": [
            "\u001b[32m[I 2021-07-21 12:18:09.932 ServerApp]\u001b[m jupyterlab | extension was successfully linked.\n",
            "\u001b[33m[W 2021-07-21 12:18:09.936 NotebookApp]\u001b[m 'allow_root' has moved from NotebookApp to ServerApp. This config will be passed to ServerApp. Be sure to update your config before our next release.\n",
            "\u001b[33m[W 2021-07-21 12:18:09.936 NotebookApp]\u001b[m 'allow_root' has moved from NotebookApp to ServerApp. This config will be passed to ServerApp. Be sure to update your config before our next release.\n",
            "\u001b[33m[W 2021-07-21 12:18:09.936 NotebookApp]\u001b[m 'port_retries' has moved from NotebookApp to ServerApp. This config will be passed to ServerApp. Be sure to update your config before our next release.\n",
            "\u001b[33m[W 2021-07-21 12:18:09.936 NotebookApp]\u001b[m 'contents_manager_class' has moved from NotebookApp to ServerApp. This config will be passed to ServerApp. Be sure to update your config before our next release.\n",
            "\u001b[33m[W 2021-07-21 12:18:09.936 NotebookApp]\u001b[m 'login_handler_class' has moved from NotebookApp to ServerApp. This config will be passed to ServerApp. Be sure to update your config before our next release.\n",
            "\u001b[33m[W 2021-07-21 12:18:09.936 NotebookApp]\u001b[m 'allow_origin' has moved from NotebookApp to ServerApp. This config will be passed to ServerApp. Be sure to update your config before our next release.\n",
            "\u001b[33m[W 2021-07-21 12:18:09.936 NotebookApp]\u001b[m 'disable_check_xsrf' has moved from NotebookApp to ServerApp. This config will be passed to ServerApp. Be sure to update your config before our next release.\n",
            "\u001b[33m[W 2021-07-21 12:18:09.936 NotebookApp]\u001b[m 'token' has moved from NotebookApp to ServerApp. This config will be passed to ServerApp. Be sure to update your config before our next release.\n",
            "\u001b[33m[W 2021-07-21 12:18:09.936 NotebookApp]\u001b[m 'token' has moved from NotebookApp to ServerApp. This config will be passed to ServerApp. Be sure to update your config before our next release.\n",
            "\u001b[33m[W 2021-07-21 12:18:09.937 NotebookApp]\u001b[m 'certfile' has moved from NotebookApp to ServerApp. This config will be passed to ServerApp. Be sure to update your config before our next release.\n",
            "\u001b[33m[W 2021-07-21 12:18:09.937 NotebookApp]\u001b[m 'keyfile' has moved from NotebookApp to ServerApp. This config will be passed to ServerApp. Be sure to update your config before our next release.\n",
            "\u001b[33m[W 2021-07-21 12:18:09.937 NotebookApp]\u001b[m 'ip' has moved from NotebookApp to ServerApp. This config will be passed to ServerApp. Be sure to update your config before our next release.\n",
            "\u001b[33m[W 2021-07-21 12:18:09.937 NotebookApp]\u001b[m 'port' has moved from NotebookApp to ServerApp. This config will be passed to ServerApp. Be sure to update your config before our next release.\n",
            "\u001b[33m[W 2021-07-21 12:18:09.937 NotebookApp]\u001b[m 'allow_remote_access' has moved from NotebookApp to ServerApp. This config will be passed to ServerApp. Be sure to update your config before our next release.\n",
            "\u001b[33m[W 2021-07-21 12:18:09.937 NotebookApp]\u001b[m 'allow_remote_access' has moved from NotebookApp to ServerApp. This config will be passed to ServerApp. Be sure to update your config before our next release.\n",
            "|DEBUG|Config changed: {'NotebookApp': {'open_browser': False, 'log_format': '|%(levelname)s|%(message)s', 'nbserver_extensions': {'google.colab._serverextension': True}, 'enable_mathjax': True}, 'ServerApp': {'allow_root': True, 'port_retries': 0, 'contents_manager_class': 'google.colab._contents_manager.ColabFileContentsManager', 'login_handler_class': 'google.colab._login_handler.ColabLoginHandler', 'allow_origin': '*', 'disable_check_xsrf': True, 'token': '', 'certfile': '/content/mycert.pem', 'keyfile': '/content/mykey.key', 'ip': '*', 'port': 8000, 'allow_remote_access': True, 'open_browser': False, 'root_dir': '/content/gdrive/MyDrive/Colab Notebooks', 'password': 'argon2:$argon2id$v=19$m=10240,t=10,p=8$tdhh47v5/UajkGMtHH4L8w$0Xroc21eCFGubMmlIPqrLw', 'jpserver_extensions': <LazyConfigValue value={'jupyterlab': True, 'nbclassic': True}>}, 'JupyterApp': {'answer_yes': True}, 'Application': {'log_level': 10}, 'ContentsManager': {'files_handler_class': 'google.colab._files_handler.ColabAuthenticatedFileHandler'}, 'MultiKernelManager': {'default_kernel_name': 'python3'}, 'Session': {'key': b'', 'keyfile': ''}, 'ExtensionApp': {'open_browser': False}}\n",
            "\u001b[33m[W 2021-07-21 12:18:10.444 ServerApp]\u001b[m The 'contents_manager_class' trait of a ServerApp instance expected a subclass of jupyter_server.services.contents.manager.ContentsManager or notebook.services.contents.manager.ContentsManage, not the ColabFileContentsManager ColabFileContentsManager.\n",
            "\u001b[32m[I 2021-07-21 12:18:10.464 LabApp]\u001b[m JupyterLab extension loaded from /usr/local/lib/python3.7/dist-packages/jupyterlab\n",
            "\u001b[32m[I 2021-07-21 12:18:10.465 LabApp]\u001b[m JupyterLab application directory is /usr/local/share/jupyter/lab\n",
            "\u001b[32m[I 2021-07-21 12:18:10.470 ServerApp]\u001b[m jupyterlab | extension was successfully loaded.\n",
            "\u001b[32m[I 2021-07-21 12:18:10.474 ServerApp]\u001b[m nbclassic | extension was successfully loaded.\n",
            "\u001b[32m[I 2021-07-21 12:18:10.475 ServerApp]\u001b[m Serving notebooks from local directory: /content/gdrive/MyDrive/Colab Notebooks\n",
            "\u001b[32m[I 2021-07-21 12:18:10.475 ServerApp]\u001b[m Jupyter Server 1.9.0 is running at:\n",
            "\u001b[32m[I 2021-07-21 12:18:10.475 ServerApp]\u001b[m http://localhost:8000/lab\n",
            "\u001b[32m[I 2021-07-21 12:18:10.475 ServerApp]\u001b[m  or http://127.0.0.1:8000/lab\n",
            "\u001b[32m[I 2021-07-21 12:18:10.475 ServerApp]\u001b[m Use Control-C to stop this server and shut down all kernels (twice to skip confirmation).\n",
            "\u001b[32m[I 2021-07-21 12:18:21.229 ServerApp]\u001b[m 302 GET / (127.0.0.1) 1.10ms\n",
            "\u001b[32m[I 2021-07-21 12:18:29.846 ServerApp]\u001b[m interrupted\n",
            "Serving notebooks from local directory: /content/gdrive/MyDrive/Colab Notebooks\n",
            "0 active kernels\n",
            "Jupyter Server 1.9.0 is running at:\n",
            "http://localhost:8000/lab\n",
            " or http://127.0.0.1:8000/lab\n",
            "Shutdown this Jupyter server (y/[n])? \u001b[35m[C 2021-07-21 12:18:29.847 ServerApp]\u001b[m received signal 2, stopping\n",
            "\u001b[32m[I 2021-07-21 12:18:29.848 ServerApp]\u001b[m Shutting down 0 kernels\n",
            "\u001b[32m[I 2021-07-21 12:18:29.849 ServerApp]\u001b[m Shutting down 0 terminals\n"
          ],
          "name": "stdout"
        }
      ]
    },
    {
      "cell_type": "markdown",
      "metadata": {
        "id": "Y6pwouaL9jAe"
      },
      "source": [
        "(use the token in the listed url as the token in the webpage, i.e. .../token?_\\<copy this\\>_."
      ]
    },
    {
      "cell_type": "code",
      "metadata": {
        "id": "FjePtSkU86aX"
      },
      "source": [
        "# Kill ngrok (can only have one instance running at a time).\n",
        "ngrok.kill()"
      ],
      "execution_count": 50,
      "outputs": []
    }
  ]
}
